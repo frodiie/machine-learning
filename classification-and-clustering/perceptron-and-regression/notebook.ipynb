{
  "nbformat": 4,
  "nbformat_minor": 5,
  "metadata": {
    "kernelspec": {
      "display_name": "Python 3",
      "language": "python",
      "name": "python3"
    },
    "language_info": {
      "codemirror_mode": {
        "name": "ipython",
        "version": 3
      },
      "file_extension": ".py",
      "mimetype": "text/x-python",
      "name": "python",
      "nbconvert_exporter": "python",
      "pygments_lexer": "ipython3",
      "version": "3.8.5"
    },
    "colab": {
      "name": "Assignetment_2_v3_(7) (1).ipynb",
      "provenance": [],
      "collapsed_sections": [
        "single-jackson",
        "photographic-coral",
        "express-external",
        "biological-assignment",
        "packed-student"
      ]
    }
  },
  "cells": [
    {
      "cell_type": "markdown",
      "metadata": {
        "id": "sacred-connecticut"
      },
      "source": [
        "# Classification with the perceptron and logistic regression\n",
        "\n",
        "__Individual assignment__\n",
        "\n",
        "Author of the assignment: Pierre Nugues\n",
        "\n",
        "__Student name__: Isabelle Frodé"
      ],
      "id": "sacred-connecticut"
    },
    {
      "cell_type": "markdown",
      "metadata": {
        "id": "single-jackson"
      },
      "source": [
        "## Objectives\n",
        "\n",
        "The objectives of this second assignment are to:\n",
        "\n",
        "1.  Write a linear regression program using gradient descent;\n",
        "2.  Write linear classifiers using the perceptron algorithm and logistic regression;\n",
        "3.  Experiment variations of the algorithms;\n",
        "4.  Evaluate your classifiers;\n",
        "5.  Experiment with popular tools;\n",
        "6.  Read a scientific article on optimization techniques and comment it;\n",
        "7.  Present your code, results, and comments in a short dissertation."
      ],
      "id": "single-jackson"
    },
    {
      "cell_type": "markdown",
      "metadata": {
        "id": "photographic-coral"
      },
      "source": [
        "## Overview\n",
        "\n",
        "The gradient descent is a basic technique to estimate linear discriminant functions. You will first use the gradient descent method to implement linear regression. You will then program the perceptron algorithm. Finally, you will improve the threshold function with the logistic curve (logistic regression). You will try various configurations and study their influence on the learning speed and accuracy."
      ],
      "id": "photographic-coral"
    },
    {
      "cell_type": "markdown",
      "metadata": {
        "id": "express-external"
      },
      "source": [
        "##  Programming language\n",
        "As programming language, you will use Python and write your code in this notebook.\n",
        "\n",
        "You need to have a comprehensive Python distribution such as Anaconda (https://www.anaconda.com/products/individual). This distribution is available on the student computers at the computer science department.\n",
        "Finally, you start a notebook by typing:\n",
        "\n",
        "`jupyter lab`\n",
        "\n",
        "in a terminal window and you select the notebook by clicking on it in the left pane.\n",
        "You run the pieces of code by typing shift+enter."
      ],
      "id": "express-external"
    },
    {
      "cell_type": "markdown",
      "metadata": {
        "id": "adjacent-crawford"
      },
      "source": [
        "## Imports\n",
        "Imports you may use"
      ],
      "id": "adjacent-crawford"
    },
    {
      "cell_type": "code",
      "metadata": {
        "id": "demanding-violence"
      },
      "source": [
        "import numpy as np\n",
        "import math\n",
        "import matplotlib.pyplot as plt\n",
        "from matplotlib import cm\n",
        "from mpl_toolkits.mplot3d import Axes3D"
      ],
      "id": "demanding-violence",
      "execution_count": 317,
      "outputs": []
    },
    {
      "cell_type": "markdown",
      "metadata": {
        "id": "interior-genealogy"
      },
      "source": [
        "## Linear Regression\n",
        "\n",
        "You will implement the gradient descent method as explained in pages 719--720 in Russell-Norvig and in the slides to compute regression lines. You will implement the stochastic and batch versions of the algorithm.\n",
        "\n",
        "You must try to do it yourself first. If you encounter difficulties, you also have the solution to this exercise in the section _Solution to linear regression_ below."
      ],
      "id": "interior-genealogy"
    },
    {
      "cell_type": "markdown",
      "metadata": {
        "id": "entire-basic"
      },
      "source": [
        "### Your implementation of linear regression\n",
        "You will implement a regression program to predict the counts of _A_'s in a text from the total count of letters. You will apply it on two data sets corresponding to letter counts in the 15 chapters of the French and English versions of _Salammbô_, where the first column is the total count of characters and the second one, the count of A's. \n",
        "\n",
        "Start with either French or English and when your program ready, test it on the other language."
      ],
      "id": "entire-basic"
    },
    {
      "cell_type": "code",
      "metadata": {
        "id": "forbidden-front"
      },
      "source": [
        "stat_fr = np.array([[36961, 2503],\n",
        "                      [43621, 2992],\n",
        "                      [15694, 1042],\n",
        "                      [36231, 2487],\n",
        "                      [29945, 2014],\n",
        "                      [40588, 2805],\n",
        "                      [75255, 5062],\n",
        "                      [37709, 2643],\n",
        "                      [30899, 2126],\n",
        "                      [25486, 1784],\n",
        "                      [37497, 2641],\n",
        "                      [40398, 2766],\n",
        "                      [74105, 5047],\n",
        "                      [76725, 5312],\n",
        "                      [18317, 1215]])\n",
        "\n",
        "stat_en = np.array([[35680, 2217],\n",
        "                      [42514, 2761],\n",
        "                      [15162, 990],\n",
        "                      [35298, 2274],\n",
        "                      [29800, 1865],\n",
        "                      [40255, 2606],\n",
        "                      [74532, 4805],\n",
        "                      [37464, 2396],\n",
        "                      [31030, 1993],\n",
        "                      [24843, 1627],\n",
        "                      [36172, 2375],\n",
        "                      [39552, 2560],\n",
        "                      [72545, 4597],\n",
        "                      [75352, 4871],\n",
        "                      [18031, 1119]])"
      ],
      "id": "forbidden-front",
      "execution_count": 318,
      "outputs": []
    },
    {
      "cell_type": "markdown",
      "metadata": {
        "id": "adaptive-backing"
      },
      "source": [
        "\n",
        "\n",
        "```\n",
        "# This is formatted as code\n",
        "```\n",
        "\n",
        "From the datasets above, tell what is $\\mathbf{X}$ and $\\mathbf{y}$. Extract:\n",
        "1. The $\\mathbf{X}$ matrix, where you will have a column to model the intercept;\n",
        "2. The $\\mathbf{y}$ vector\n",
        "\n",
        "from these arrays."
      ],
      "id": "adaptive-backing"
    },
    {
      "cell_type": "code",
      "metadata": {
        "id": "attached-aluminum",
        "colab": {
          "base_uri": "https://localhost:8080/"
        },
        "outputId": "e2f3edc8-7af2-416f-c769-497c2c707574"
      },
      "source": [
        "## Extract the feature matrix X and class vector y\n",
        "# French \n",
        "\n",
        "language = stat_fr\n",
        "\n",
        "length_fr = len(language)\n",
        "X_fr = []\n",
        "y_fr = [] \n",
        "\n",
        "for j in range(length_fr):\n",
        "    X_row_fr = []\n",
        "    X_row_fr.append(1)\n",
        "    X_row_fr.append(language[j][0])\n",
        "    X_fr.append(X_row_fr)\n",
        "    y_fr.append(language[j][1])\n",
        "X_fr = np.array(X_fr)\n",
        "y_fr = np.transpose(y_fr)\n",
        "\n",
        "print(X_fr)\n",
        "print(y_fr)\n",
        "\n",
        "\n",
        "\n",
        "# English\n",
        "\n",
        "language = stat_en\n",
        "\n",
        "length_en = len(language)\n",
        "X_en = []\n",
        "y_en = [] \n",
        "\n",
        "for j in range(length_en):\n",
        "    X_row_en = []\n",
        "    X_row_en.append(1)\n",
        "    X_row_en.append(language[j][0])\n",
        "    X_en.append(X_row_en)\n",
        "    y_en.append(language[j][1])\n",
        "X_en = np.array(X_en)\n",
        "y_en = np.transpose(y_en)\n",
        "\n",
        "print(X_en)\n",
        "print(y_en)\n"
      ],
      "id": "attached-aluminum",
      "execution_count": 319,
      "outputs": [
        {
          "output_type": "stream",
          "text": [
            "[[    1 36961]\n",
            " [    1 43621]\n",
            " [    1 15694]\n",
            " [    1 36231]\n",
            " [    1 29945]\n",
            " [    1 40588]\n",
            " [    1 75255]\n",
            " [    1 37709]\n",
            " [    1 30899]\n",
            " [    1 25486]\n",
            " [    1 37497]\n",
            " [    1 40398]\n",
            " [    1 74105]\n",
            " [    1 76725]\n",
            " [    1 18317]]\n",
            "[2503 2992 1042 2487 2014 2805 5062 2643 2126 1784 2641 2766 5047 5312\n",
            " 1215]\n",
            "[[    1 35680]\n",
            " [    1 42514]\n",
            " [    1 15162]\n",
            " [    1 35298]\n",
            " [    1 29800]\n",
            " [    1 40255]\n",
            " [    1 74532]\n",
            " [    1 37464]\n",
            " [    1 31030]\n",
            " [    1 24843]\n",
            " [    1 36172]\n",
            " [    1 39552]\n",
            " [    1 72545]\n",
            " [    1 75352]\n",
            " [    1 18031]]\n",
            "[2217 2761  990 2274 1865 2606 4805 2396 1993 1627 2375 2560 4597 4871\n",
            " 1119]\n"
          ],
          "name": "stdout"
        }
      ]
    },
    {
      "cell_type": "code",
      "metadata": {
        "id": "eW-IxdqTAbmu"
      },
      "source": [
        ""
      ],
      "id": "eW-IxdqTAbmu",
      "execution_count": 319,
      "outputs": []
    },
    {
      "cell_type": "code",
      "metadata": {
        "id": "U8loYSAf_7zw"
      },
      "source": [
        ""
      ],
      "id": "U8loYSAf_7zw",
      "execution_count": 319,
      "outputs": []
    },
    {
      "cell_type": "code",
      "metadata": {
        "id": "gbG2XOn0_1co"
      },
      "source": [
        ""
      ],
      "id": "gbG2XOn0_1co",
      "execution_count": 319,
      "outputs": []
    },
    {
      "cell_type": "code",
      "metadata": {
        "id": "PBF3T2pr_Khm"
      },
      "source": [
        ""
      ],
      "id": "PBF3T2pr_Khm",
      "execution_count": 319,
      "outputs": []
    },
    {
      "cell_type": "markdown",
      "metadata": {
        "id": "cross-neighborhood"
      },
      "source": [
        "Scale the arrays so that they fit in the range [0, 1] on the $x$ and $y$ axes. "
      ],
      "id": "cross-neighborhood"
    },
    {
      "cell_type": "code",
      "metadata": {
        "id": "sudden-decision"
      },
      "source": [
        "# Scale the arrays\n",
        "\n",
        "X_fr = X_fr.astype('float64')\n",
        "X_fr *= 1.0/X_fr.max()\n",
        "\n",
        "y_fr = y_fr.astype('float64')\n",
        "y_fr *= 1.0/y_fr.max()\n",
        "\n",
        "X_en = X_en.astype('float64')\n",
        "X_en *= 1.0/X_en.max()\n",
        "\n",
        "y_en = y_en.astype('float64')\n",
        "y_en *= 1.0/y_en.max()\n"
      ],
      "id": "sudden-decision",
      "execution_count": 320,
      "outputs": []
    },
    {
      "cell_type": "markdown",
      "metadata": {
        "id": "motivated-upset"
      },
      "source": [
        "#### Gradient descent"
      ],
      "id": "motivated-upset"
    },
    {
      "cell_type": "markdown",
      "metadata": {
        "id": "careful-supplier"
      },
      "source": [
        "Implement the descent functions. You will pass `X`, `y`, the learning rate in the $\\alpha$ variable, the initial weight vector in `w`, the tolerance in the $\\epsilon$ variable, the maximal number of epochs in `epochs`. You will return `w`."
      ],
      "id": "careful-supplier"
    },
    {
      "cell_type": "markdown",
      "metadata": {
        "id": "internal-luther"
      },
      "source": [
        "Batch descent"
      ],
      "id": "internal-luther"
    },
    {
      "cell_type": "code",
      "metadata": {
        "id": "planned-italy"
      },
      "source": [
        "## BATCH DESCENT\n",
        "\n",
        "def fit_batch(X, y, alpha, w,\n",
        "                  epochs=500,\n",
        "                  epsilon=1.0e-5):\n",
        "    \n",
        "    w0, w1 = w[0], w[1]\n",
        "    q = len(y)\n",
        "    x1 = np.array(X[:, 1])\n",
        "\n",
        "    nabla_Loss = 1\n",
        "\n",
        "    for epoch in range(epochs): \n",
        "        if nabla_Loss > epsilon:\n",
        "            sum0 = 0\n",
        "            sum1 = 0\n",
        "            for i in range(q):\n",
        "                sum0 += y[i] - (w0 + (w1*x1[i]))\n",
        "                sum1 += x1[i] * (y[i] - (w0 + (w1 * x1[i])))\n",
        "            w0 += (alpha/q)*sum0\n",
        "            w1 += (alpha/q)*sum1\n",
        "            nabla_Loss = np.linalg.norm([sum(y - (w0 + (w1*x1))) , -2*sum(x1 * (y - (w0 + w1*x1)))])\n",
        "            alpha -= epsilon\n",
        "\n",
        "    w = np.array([w0, w1])\n",
        "\n",
        "    return w"
      ],
      "id": "planned-italy",
      "execution_count": 321,
      "outputs": []
    },
    {
      "cell_type": "code",
      "metadata": {
        "id": "pDEux37DVVqr"
      },
      "source": [
        ""
      ],
      "id": "pDEux37DVVqr",
      "execution_count": 321,
      "outputs": []
    },
    {
      "cell_type": "code",
      "metadata": {
        "id": "kZSgmFiO1DcG"
      },
      "source": [
        ""
      ],
      "id": "kZSgmFiO1DcG",
      "execution_count": 321,
      "outputs": []
    },
    {
      "cell_type": "markdown",
      "metadata": {
        "id": "french-sight"
      },
      "source": [
        "Stochastic descent"
      ],
      "id": "french-sight"
    },
    {
      "cell_type": "code",
      "metadata": {
        "id": "emerging-vegetation"
      },
      "source": [
        "## STOCHASTIC DESCENT\n",
        "\n",
        "def fit_stoch(X, y, alpha, w,\n",
        "                  epochs=500,\n",
        "                  epsilon=1.0e-5):\n",
        "    \n",
        "    w0, w1 = w[0], w[1]\n",
        "    q = len(y)\n",
        "    x1 = np.array(X[:, 1])\n",
        "\n",
        "    nabla_Loss = 1\n",
        "    \n",
        "    for step in range(0, epochs): \n",
        "        if nabla_Loss > epsilon:\n",
        "            for i in range(q):\n",
        "                w0 += alpha * (y[i] - (w0 + (w1*x1[i])))\n",
        "                w1 += alpha * (x1[i] * (y[i] - (w0 + w1*x1[i])))\n",
        "                alpha -= epsilon\n",
        "\n",
        "            Loss = sum(y - (w0 + (w1*x1)))\n",
        "            part_deriv_Loss = -2*sum(x1 * (y - (w0 + w1*x1)))\n",
        "            nabla_Loss = np.linalg.norm([Loss, part_deriv_Loss])\n",
        "                \n",
        "    w = np.array([w0, w1])\n",
        "\n",
        "    return w"
      ],
      "id": "emerging-vegetation",
      "execution_count": 322,
      "outputs": []
    },
    {
      "cell_type": "markdown",
      "metadata": {
        "id": "junior-kazakhstan"
      },
      "source": [
        "#### Applying batch descent"
      ],
      "id": "junior-kazakhstan"
    },
    {
      "cell_type": "markdown",
      "metadata": {
        "id": "treated-assets"
      },
      "source": [
        "Apply the batch descent and print the final weight values "
      ],
      "id": "treated-assets"
    },
    {
      "cell_type": "code",
      "metadata": {
        "id": "maritime-andorra",
        "colab": {
          "base_uri": "https://localhost:8080/"
        },
        "outputId": "b0f98227-5b4c-43be-f6f1-d8ae652a13d4"
      },
      "source": [
        "# Apply Batch Descent\n",
        "\n",
        "alpha = 1\n",
        "w = [1, 1]\n",
        "w = np.transpose(w)\n",
        "w_batch_fr = fit_batch(X_fr, y_fr, alpha, w, epochs=500, epsilon=1.0e-5)\n",
        "w_batch_en = fit_batch(X_en, y_en, alpha, w, epochs=500, epsilon=1.0e-5)\n",
        "\n",
        "print('Batch Descent weight vectors')\n",
        "print('Fr: ', w_batch_fr)\n",
        "print('En: ', w_batch_en)"
      ],
      "id": "maritime-andorra",
      "execution_count": 323,
      "outputs": [
        {
          "output_type": "stream",
          "text": [
            "Batch Descent weight vectors\n",
            "Fr:  [0.00164643 0.98652162]\n",
            "En:  [-7.34651447e-04  9.94702461e-01]\n"
          ],
          "name": "stdout"
        }
      ]
    },
    {
      "cell_type": "code",
      "metadata": {
        "id": "KjYLObKy1fwI"
      },
      "source": [
        ""
      ],
      "id": "KjYLObKy1fwI",
      "execution_count": 323,
      "outputs": []
    },
    {
      "cell_type": "markdown",
      "metadata": {
        "id": "virgin-blast"
      },
      "source": [
        "Visualize the points of your dataset as well as the regression lines you obtain using matplotlib or another similar program."
      ],
      "id": "virgin-blast"
    },
    {
      "cell_type": "code",
      "metadata": {
        "id": "durable-stationery",
        "colab": {
          "base_uri": "https://localhost:8080/",
          "height": 282
        },
        "outputId": "a193289a-f452-4e65-b633-ebe8a71a9345"
      },
      "source": [
        "## VISUALIZATION \n",
        "## - French\n",
        "\n",
        "# Points of data set\n",
        "x1_fr = np.array(X_fr[:, 1])\n",
        "plt.plot(x1_fr, y_fr, 'r.')\n",
        "\n",
        "# Regression line\n",
        "reg_line = np.linspace(0, 1)\n",
        "plt.plot(reg_line, w_batch_fr[1]*reg_line + w_batch_fr[0], 'b-')"
      ],
      "id": "durable-stationery",
      "execution_count": 324,
      "outputs": [
        {
          "output_type": "execute_result",
          "data": {
            "text/plain": [
              "[<matplotlib.lines.Line2D at 0x7fcfc6debdd0>]"
            ]
          },
          "metadata": {
            "tags": []
          },
          "execution_count": 324
        },
        {
          "output_type": "display_data",
          "data": {
            "image/png": "[encoded data removed]",
            "text/plain": [
              "<Figure size 432x288 with 1 Axes>"
            ]
          },
          "metadata": {
            "tags": [],
            "needs_background": "light"
          }
        }
      ]
    },
    {
      "cell_type": "code",
      "metadata": {
        "colab": {
          "base_uri": "https://localhost:8080/",
          "height": 282
        },
        "id": "cOcQ3FaRuwBp",
        "outputId": "f113680f-cd1b-490e-df75-b139a9f03c7f"
      },
      "source": [
        "## VISUALIZATION \n",
        "## - English\n",
        "# Points of data set\n",
        "x1_en = np.array(X_en[:, 1])\n",
        "plt.plot(x1_en, y_en, 'r.')\n",
        "\n",
        "# Regression line\n",
        "reg_line = np.linspace(0, 1)\n",
        "plt.plot(reg_line, w_batch_en[1]*reg_line + w_batch_en[0], 'b-')"
      ],
      "id": "cOcQ3FaRuwBp",
      "execution_count": 325,
      "outputs": [
        {
          "output_type": "execute_result",
          "data": {
            "text/plain": [
              "[<matplotlib.lines.Line2D at 0x7fd018b3e290>]"
            ]
          },
          "metadata": {
            "tags": []
          },
          "execution_count": 325
        },
        {
          "output_type": "display_data",
          "data": {
            "image/png": "[encoded data removed]",
            "text/plain": [
              "<Figure size 432x288 with 1 Axes>"
            ]
          },
          "metadata": {
            "tags": [],
            "needs_background": "light"
          }
        }
      ]
    },
    {
      "cell_type": "markdown",
      "metadata": {
        "id": "consistent-tampa"
      },
      "source": [
        "#### Stochastic descent"
      ],
      "id": "consistent-tampa"
    },
    {
      "cell_type": "code",
      "metadata": {
        "id": "distinct-cruise",
        "colab": {
          "base_uri": "https://localhost:8080/"
        },
        "outputId": "bf93243b-6fa5-4d3e-9c74-15f5b0c34ac6"
      },
      "source": [
        "# Apply Stochastic Descent\n",
        "\n",
        "alpha = 1\n",
        "w = [1, 1] \n",
        "w = np.transpose(w)\n",
        "w_stoch_fr = fit_stoch(X_fr, y_fr, alpha, w, epochs=500, epsilon=1.0e-5)\n",
        "w_stoch_en = fit_stoch(X_en, y_en, alpha, w, epochs=500, epsilon=1.0e-5)\n",
        "\n",
        "print('Stochastic Descent weight vectors')\n",
        "print('Fr: ', w_stoch_fr)\n",
        "print('En: ', w_stoch_en)"
      ],
      "id": "distinct-cruise",
      "execution_count": 326,
      "outputs": [
        {
          "output_type": "stream",
          "text": [
            "Stochastic Descent weight vectors\n",
            "Fr:  [-0.00698908  0.99204681]\n",
            "En:  [-0.00983795  1.00320518]\n"
          ],
          "name": "stdout"
        }
      ]
    },
    {
      "cell_type": "code",
      "metadata": {
        "id": "AGKMJbzCtMx5"
      },
      "source": [
        ""
      ],
      "id": "AGKMJbzCtMx5",
      "execution_count": 326,
      "outputs": []
    },
    {
      "cell_type": "markdown",
      "metadata": {
        "id": "fuzzy-circular"
      },
      "source": [
        "Visualize the points of your dataset as well as the regression lines you obtain using matplotlib or another similar program."
      ],
      "id": "fuzzy-circular"
    },
    {
      "cell_type": "code",
      "metadata": {
        "id": "illegal-steps",
        "colab": {
          "base_uri": "https://localhost:8080/",
          "height": 282
        },
        "outputId": "c0a9da35-91dd-47e1-8bb5-69b834d63f66"
      },
      "source": [
        "## VISUALIZATION\n",
        "## - French\n",
        "\n",
        "# Points of data set\n",
        "x1_fr = np.array(X_fr[:, 1])\n",
        "plt.plot(x1_fr, y_fr, '.')\n",
        "\n",
        "# Regression line\n",
        "reg_line = np.linspace(0, 1)\n",
        "plt.plot(reg_line, w_stoch_fr[1]*reg_line + w_stoch_fr[0], '-')"
      ],
      "id": "illegal-steps",
      "execution_count": 327,
      "outputs": [
        {
          "output_type": "execute_result",
          "data": {
            "text/plain": [
              "[<matplotlib.lines.Line2D at 0x7fd018978bd0>]"
            ]
          },
          "metadata": {
            "tags": []
          },
          "execution_count": 327
        },
        {
          "output_type": "display_data",
          "data": {
            "image/png": "[encoded data removed]",
            "text/plain": [
              "<Figure size 432x288 with 1 Axes>"
            ]
          },
          "metadata": {
            "tags": [],
            "needs_background": "light"
          }
        }
      ]
    },
    {
      "cell_type": "code",
      "metadata": {
        "id": "dWuc3mTzvuHC",
        "colab": {
          "base_uri": "https://localhost:8080/",
          "height": 282
        },
        "outputId": "b57d6eda-15a7-4163-d6f4-e0527b130a64"
      },
      "source": [
        "## VISUALIZATION\n",
        "## - English\n",
        "\n",
        "# Points of data set\n",
        "x1_en = np.array(X_en[:, 1])\n",
        "plt.plot(x1_en, y_en, '.')\n",
        "\n",
        "# Regression line\n",
        "reg_line = np.linspace(0, 1)\n",
        "plt.plot(reg_line, w_stoch_en[1]*reg_line + w_stoch_en[0], '-')"
      ],
      "id": "dWuc3mTzvuHC",
      "execution_count": 328,
      "outputs": [
        {
          "output_type": "execute_result",
          "data": {
            "text/plain": [
              "[<matplotlib.lines.Line2D at 0x7fcfc76c8150>]"
            ]
          },
          "metadata": {
            "tags": []
          },
          "execution_count": 328
        },
        {
          "output_type": "display_data",
          "data": {
            "image/png": "[encoded data removed]",
            "text/plain": [
              "<Figure size 432x288 with 1 Axes>"
            ]
          },
          "metadata": {
            "tags": [],
            "needs_background": "light"
          }
        }
      ]
    },
    {
      "cell_type": "markdown",
      "metadata": {
        "id": "biological-assignment"
      },
      "source": [
        "### A solution to linear regression\n",
        "\n",
        "To help you start this assignment, your instructor wrote two Python notebooks that solve this exercise on linear regression. You can find them here: https://github.com/pnugues/ilppp/tree/master/programs/ch04/python\n",
        "The first notebook, `gradient_descent.ipynb`, only uses Python and vector operations such as the dot product that are in the `vector.py` file.\n",
        "The second notebook, `gradient_descent_numpy.ipynb`, uses Numpy. It is more compact, but you need to know a bit of numpy.\n",
        "\n",
        "To run these programs, download them on your computer as well as the other program in the import list: vector.py\n",
        "\n",
        "The programs are also available as Python programs from\n",
        "https://github.com/pnugues/ilppp/tree/master/programs/ch04/python"
      ],
      "id": "biological-assignment"
    },
    {
      "cell_type": "markdown",
      "metadata": {
        "id": "suspended-province"
      },
      "source": [
        "## Classification\n",
        "You will use the same data set as for linear regression, but this time to classify a chapter as French or English. Given a pair of numbers corresponding the letter count and count of _A_, you will predict the language:\n",
        "1. $\\mathbf{x} = (35680, 2217)$ $\\to$ $y$ = English\n",
        "2. $\\mathbf{x} = (37497, 2641)$ $\\to$ $y$ = French"
      ],
      "id": "suspended-province"
    },
    {
      "cell_type": "markdown",
      "metadata": {
        "id": "joint-psychology"
      },
      "source": [
        "### The dataset\n",
        "You will use the arrays below:\n",
        "1. `X` contains the counts of letters and of _A_ s as well as a column of ones for the intercept;\n",
        "2. `y` contains the classes, where 0 is for English and 1 for French."
      ],
      "id": "joint-psychology"
    },
    {
      "cell_type": "code",
      "metadata": {
        "id": "sustainable-payment"
      },
      "source": [
        "X = [[1.0, 35680.0, 2217.0],\n",
        "     [1.0, 42514.0, 2761.0],\n",
        "     [1.0, 15162.0, 990.0],\n",
        "     [1.0, 35298.0, 2274.0],\n",
        "     [1.0, 29800.0, 1865.0],\n",
        "     [1.0, 40255.0, 2606.0],\n",
        "     [1.0, 74532.0, 4805.0],\n",
        "     [1.0, 37464.0, 2396.0],\n",
        "     [1.0, 31030.0, 1993.0],\n",
        "     [1.0, 24843.0, 1627.0],\n",
        "     [1.0, 36172.0, 2375.0],\n",
        "     [1.0, 39552.0, 2560.0],\n",
        "     [1.0, 72545.0, 4597.0],\n",
        "     [1.0, 75352.0, 4871.0],\n",
        "     [1.0, 18031.0, 1119.0],\n",
        "     [1.0, 36961.0, 2503.0],\n",
        "     [1.0, 43621.0, 2992.0],\n",
        "     [1.0, 15694.0, 1042.0],\n",
        "     [1.0, 36231.0, 2487.0],\n",
        "     [1.0, 29945.0, 2014.0],\n",
        "     [1.0, 40588.0, 2805.0],\n",
        "     [1.0, 75255.0, 5062.0],\n",
        "     [1.0, 37709.0, 2643.0],\n",
        "     [1.0, 30899.0, 2126.0],\n",
        "     [1.0, 25486.0, 1784.0],\n",
        "     [1.0, 37497.0, 2641.0],\n",
        "     [1.0, 40398.0, 2766.0],\n",
        "     [1.0, 74105.0, 5047.0],\n",
        "     [1.0, 76725.0, 5312.0],\n",
        "     [1.0, 18317.0, 1215.0]]\n",
        "y = [0.0, 0.0, 0.0, 0.0, 0.0, 0.0, 0.0, 0.0, 0.0, 0.0, 0.0, 0.0, 0.0, 0.0, 0.0,\n",
        "     1.0, 1.0, 1.0, 1.0, 1.0, 1.0, 1.0, 1.0, 1.0, 1.0, 1.0, 1.0, 1.0, 1.0, 1.0]"
      ],
      "id": "sustainable-payment",
      "execution_count": 329,
      "outputs": []
    },
    {
      "cell_type": "markdown",
      "metadata": {
        "id": "emerging-looking"
      },
      "source": [
        "We visualize it"
      ],
      "id": "emerging-looking"
    },
    {
      "cell_type": "code",
      "metadata": {
        "id": "verified-bridal"
      },
      "source": [
        "x_fr = [x[1] for i, x in enumerate(X) if y[i] == 1]\n",
        "y_fr = [x[2] for i, x in enumerate(X) if y[i] == 1]\n",
        "x_en = [x[1] for i, x in enumerate(X) if y[i] == 0]\n",
        "y_en = [x[2] for i, x in enumerate(X) if y[i] == 0]"
      ],
      "id": "verified-bridal",
      "execution_count": 330,
      "outputs": []
    },
    {
      "cell_type": "code",
      "metadata": {
        "id": "constitutional-carry",
        "colab": {
          "base_uri": "https://localhost:8080/",
          "height": 282
        },
        "outputId": "ab4dcb5a-f1c3-4765-c484-b8654ff31d65"
      },
      "source": [
        "plt.scatter(x_fr, y_fr, color='red')\n",
        "plt.scatter(x_en, y_en, color='blue')"
      ],
      "id": "constitutional-carry",
      "execution_count": 331,
      "outputs": [
        {
          "output_type": "execute_result",
          "data": {
            "text/plain": [
              "<matplotlib.collections.PathCollection at 0x7fcfc27e5bd0>"
            ]
          },
          "metadata": {
            "tags": []
          },
          "execution_count": 331
        },
        {
          "output_type": "display_data",
          "data": {
            "image/png": "[encoded data removed]",
            "text/plain": [
              "<Figure size 432x288 with 1 Axes>"
            ]
          },
          "metadata": {
            "tags": [],
            "needs_background": "light"
          }
        }
      ]
    },
    {
      "cell_type": "markdown",
      "metadata": {
        "id": "mineral-pointer"
      },
      "source": [
        "### Normalize the dataset"
      ],
      "id": "mineral-pointer"
    },
    {
      "cell_type": "markdown",
      "metadata": {
        "id": "imported-reporter"
      },
      "source": [
        "Gradient descent algorithms can be very sensitive to the range. Therefore, we normalize the dataset."
      ],
      "id": "imported-reporter"
    },
    {
      "cell_type": "code",
      "metadata": {
        "id": "adequate-words"
      },
      "source": [
        "def normalize(observations):\n",
        "    maxima = [max([obs[i] for obs in observations]) for i in range(len(observations[0]))]\n",
        "    return ([[obs[i] / maxima[i]\n",
        "              for i in range(len(observations[0]))] for obs in observations],\n",
        "            maxima)"
      ],
      "id": "adequate-words",
      "execution_count": 332,
      "outputs": []
    },
    {
      "cell_type": "code",
      "metadata": {
        "id": "conservative-effectiveness",
        "colab": {
          "base_uri": "https://localhost:8080/"
        },
        "outputId": "6a975f1c-b4b0-4142-8554-014fc5e81cd1"
      },
      "source": [
        "X_norm, maxima = normalize(X)\n",
        "X_norm"
      ],
      "id": "conservative-effectiveness",
      "execution_count": 333,
      "outputs": [
        {
          "output_type": "execute_result",
          "data": {
            "text/plain": [
              "[[1.0, 0.4650374714890844, 0.4173569277108434],\n",
              " [1.0, 0.5541088302378625, 0.5197665662650602],\n",
              " [1.0, 0.19761485826001954, 0.18637048192771086],\n",
              " [1.0, 0.460058651026393, 0.42808734939759036],\n",
              " [1.0, 0.3884001303356142, 0.3510918674698795],\n",
              " [1.0, 0.5246660149885957, 0.49058734939759036],\n",
              " [1.0, 0.9714173998044966, 0.9045557228915663],\n",
              " [1.0, 0.4882893450635386, 0.4510542168674699],\n",
              " [1.0, 0.4044314108830238, 0.37518825301204817],\n",
              " [1.0, 0.32379276637341153, 0.30628765060240964],\n",
              " [1.0, 0.47144998370804825, 0.4471009036144578],\n",
              " [1.0, 0.5155034213098729, 0.4819277108433735],\n",
              " [1.0, 0.9455197132616487, 0.8653990963855421],\n",
              " [1.0, 0.9821049201694363, 0.916980421686747],\n",
              " [1.0, 0.2350081459758879, 0.21065512048192772],\n",
              " [1.0, 0.48173346366894754, 0.4711972891566265],\n",
              " [1.0, 0.5685369827305311, 0.5632530120481928],\n",
              " [1.0, 0.2045487129358097, 0.19615963855421686],\n",
              " [1.0, 0.47221896383186707, 0.46818524096385544],\n",
              " [1.0, 0.39028999674160963, 0.37914156626506024],\n",
              " [1.0, 0.5290061909416748, 0.5280496987951807],\n",
              " [1.0, 0.9808406647116324, 0.9529367469879518],\n",
              " [1.0, 0.49148256761159986, 0.4975527108433735],\n",
              " [1.0, 0.40272401433691757, 0.4002259036144578],\n",
              " [1.0, 0.3321733463668948, 0.3358433734939759],\n",
              " [1.0, 0.4887194525904203, 0.4971762048192771],\n",
              " [1.0, 0.5265298142717497, 0.5207078313253012],\n",
              " [1.0, 0.9658520690778756, 0.9501129518072289],\n",
              " [1.0, 1.0, 1.0],\n",
              " [1.0, 0.23873574454219615, 0.22872740963855423]]"
            ]
          },
          "metadata": {
            "tags": []
          },
          "execution_count": 333
        }
      ]
    },
    {
      "cell_type": "markdown",
      "metadata": {
        "id": "attached-reverse"
      },
      "source": [
        "## The Perceptron\n",
        "\n",
        "1. Write the perceptron program as explained in pages 723--725 in Russell-Norvig and in the slides and run it on your data set. As suggested program structure, use two functions: \n",
        " * `fit(X, y)` that will return `w` (the model). You can choose a stochastic or batch variant;\n",
        " * `predict(X, w)` that will return `y_hat`. You can encapsulate these functions in a class and, of course, add more parameters.\n",
        "2. As a stop criterion, you will use the number of misclassified examples.\n",
        "3. You will report the parameters you have used and the weight vector\n",
        "\n",
        "You can use numpy or not. The next cells are just suggested steps. You can implement it your way."
      ],
      "id": "attached-reverse"
    },
    {
      "cell_type": "markdown",
      "metadata": {
        "id": "applicable-missouri"
      },
      "source": [
        "### The `predict(X, w)` function\n",
        "Write a `predict(X, w)` function that given a matrix of observations $\\mathbf{X}$ and a weight vector $\\mathbf{w}$ will return a $\\mathbf{\\hat{y}}$ vector classes (0 or 1)"
      ],
      "id": "applicable-missouri"
    },
    {
      "cell_type": "code",
      "metadata": {
        "id": "demanding-stage"
      },
      "source": [
        "## PREDICT FUNCTION\n",
        "\n",
        "def predict(X, w):\n",
        "  y_class = []\n",
        "  for observation in X:\n",
        "      prediction = w[2] * observation[2] + w[1] * observation[1] + w[0]\n",
        "      if prediction > 0:\n",
        "          y_class.append(1)\n",
        "      else: \n",
        "          y_class.append(0)\n",
        "  y_class = np.transpose(y_class)\n",
        "  \n",
        "  return y_class\n",
        "    "
      ],
      "id": "demanding-stage",
      "execution_count": 334,
      "outputs": []
    },
    {
      "cell_type": "markdown",
      "metadata": {
        "id": "choice-morgan"
      },
      "source": [
        "### The `fit(X, y)` function"
      ],
      "id": "choice-morgan"
    },
    {
      "cell_type": "markdown",
      "metadata": {
        "id": "documented-cartridge"
      },
      "source": [
        "Write a `fit(X, y)` function that given a matrix of observations $\\mathbf{X}$ and a vector of responses $\\mathbf{y}$ will return a weight $\\mathbf{w}$ vector. You may use the other arguments of the function, notably the number of misclassified examples to define the stop condition."
      ],
      "id": "documented-cartridge"
    },
    {
      "cell_type": "code",
      "metadata": {
        "id": "therapeutic-balloon"
      },
      "source": [
        "## FIT FUNCTION\n",
        "\n",
        "import random\n",
        "\n",
        "def fit_stoch(X, y,\n",
        "              epochs=10000,\n",
        "              max_misclassified=0,\n",
        "              verbose=True):\n",
        "  \n",
        "  w0, w1, w2 = 1, 2, 4\n",
        "  w = np.array([w0, w1, w2])\n",
        "  q = len(y)\n",
        "  misclassified = -1\n",
        "\n",
        "  for step in range(epochs):\n",
        "      if misclassified == max_misclassified:\n",
        "          break\n",
        "      misclassified = 0\n",
        "      y_c = predict(X, w)\n",
        "      for i in range(q):\n",
        "          r = random.randint(0, q-1)\n",
        "          delta = y[r] - y_c[r]\n",
        "\n",
        "          if delta != 0:\n",
        "              misclassified += 1\n",
        "          w0 += delta\n",
        "          w1 += X[r][1] * delta\n",
        "          w2 += X[r][2] * delta\n",
        "      w = np.array([w0, w1, w2])\n",
        "\n",
        "  return w\n",
        "\n"
      ],
      "id": "therapeutic-balloon",
      "execution_count": 335,
      "outputs": []
    },
    {
      "cell_type": "code",
      "metadata": {
        "id": "V9URqO8pSggZ"
      },
      "source": [
        ""
      ],
      "id": "V9URqO8pSggZ",
      "execution_count": 335,
      "outputs": []
    },
    {
      "cell_type": "markdown",
      "metadata": {
        "id": "accessory-graduate"
      },
      "source": [
        "### Fitting the dataset"
      ],
      "id": "accessory-graduate"
    },
    {
      "cell_type": "code",
      "metadata": {
        "id": "reported-uniform",
        "colab": {
          "base_uri": "https://localhost:8080/"
        },
        "outputId": "2de93146-52ec-47e7-b3c1-a292b8388891"
      },
      "source": [
        "w = fit_stoch(X_norm, y)\n",
        "w"
      ],
      "id": "reported-uniform",
      "execution_count": 336,
      "outputs": [
        {
          "output_type": "execute_result",
          "data": {
            "text/plain": [
              "array([   0.        , -104.54379928,  109.95500753])"
            ]
          },
          "metadata": {
            "tags": []
          },
          "execution_count": 336
        }
      ]
    },
    {
      "cell_type": "code",
      "metadata": {
        "id": "formal-bahamas",
        "colab": {
          "base_uri": "https://localhost:8080/"
        },
        "outputId": "38066128-227a-4123-b227-95aed816835a"
      },
      "source": [
        "w = [w[i] * maxima[-1] / maxima[i] for i in range(len(w))]\n",
        "print('The Perceptron')\n",
        "print(\"Restored weights\", w)\n",
        "w = [w[j] / w[-1] for j in range(len(w))]\n",
        "print(\"Weights with y set to 1\", w)"
      ],
      "id": "formal-bahamas",
      "execution_count": 337,
      "outputs": [
        {
          "output_type": "stream",
          "text": [
            "The Perceptron\n",
            "Restored weights [0.0, -7.238014490610798, 109.95500753012146]\n",
            "Weights with y set to 1 [0.0, -0.06582705647696846, 1.0]\n"
          ],
          "name": "stdout"
        }
      ]
    },
    {
      "cell_type": "markdown",
      "metadata": {
        "id": "demographic-control"
      },
      "source": [
        "### Visualizing the results"
      ],
      "id": "demographic-control"
    },
    {
      "cell_type": "code",
      "metadata": {
        "id": "forward-enclosure",
        "colab": {
          "base_uri": "https://localhost:8080/",
          "height": 282
        },
        "outputId": "7e10e201-a1bf-417c-82d2-b41cc5619e4e"
      },
      "source": [
        "plt.scatter(x_fr, y_fr, color='red')\n",
        "plt.scatter(x_en, y_en, color='blue')\n",
        "plt.plot([min(x_fr + x_en), max(x_fr + x_en)],\n",
        "             [-w[1] * min(x_fr + x_en) - w[0], -w[1] * max(x_fr + x_en) - w[0]])"
      ],
      "id": "forward-enclosure",
      "execution_count": 338,
      "outputs": [
        {
          "output_type": "execute_result",
          "data": {
            "text/plain": [
              "[<matplotlib.lines.Line2D at 0x7fd01815acd0>]"
            ]
          },
          "metadata": {
            "tags": []
          },
          "execution_count": 338
        },
        {
          "output_type": "display_data",
          "data": {
            "image/png": "[encoded data removed]",
            "text/plain": [
              "<Figure size 432x288 with 1 Axes>"
            ]
          },
          "metadata": {
            "tags": [],
            "needs_background": "light"
          }
        }
      ]
    },
    {
      "cell_type": "markdown",
      "metadata": {
        "id": "eleven-honolulu"
      },
      "source": [
        "### Evaluation\n",
        "Evaluate your perceptron using the leave-one-out cross validation method. You will have to train and run 30 models. In each train/run session, you will train on 29 samples and evaluate on the remaining sample. You have then either a correct or a wrong classification. You will sum these classifications, i.e. the number of correct classifications, to get your final evaluation, for instance 29/30."
      ],
      "id": "eleven-honolulu"
    },
    {
      "cell_type": "code",
      "metadata": {
        "id": "patent-leeds"
      },
      "source": [
        "## LEAVE-ONE-OUT CROSS VALIDATION\n",
        "\n",
        "def leave_one_out_cross_val(X, y, fitting_function):\n",
        "    correct = 0\n",
        "\n",
        "    for sample in range(30):\n",
        "        X_train, y_train, x_test, y_test = [], [], [], 0\n",
        "        \n",
        "        for i in range(len(X)):\n",
        "            if i != sample:\n",
        "                X_train.append(X[i])\n",
        "                y_train.append(y[i])\n",
        "            else: \n",
        "                X_test = X[i]\n",
        "                y_test = y[i]\n",
        "\n",
        "        w = fitting_function(X_train, y_train)\n",
        "        val = w[2]*X_test[2] + w[1]*X_test[1] + w[0] \n",
        "\n",
        "        if val >= 0:\n",
        "            y_value = 1\n",
        "        else:\n",
        "            y_value = 0\n",
        "            class_result = 'wrong'\n",
        "\n",
        "        if y_value == y_test:\n",
        "            correct += 1\n",
        "            class_result = 'correct'\n",
        "        stoch_accuracy = correct / 30\n",
        "\n",
        "        if y_value != y_test:\n",
        "            class_result = 'wrong'\n",
        "\n",
        "        print('Fold ', sample, 'weights: ', w, ':, ', class_result)\n",
        "\n",
        "    return stoch_accuracy\n",
        "        \n",
        "    \n"
      ],
      "id": "patent-leeds",
      "execution_count": 339,
      "outputs": []
    },
    {
      "cell_type": "code",
      "metadata": {
        "id": "bOS8Kpc_1dBD"
      },
      "source": [
        ""
      ],
      "id": "bOS8Kpc_1dBD",
      "execution_count": 339,
      "outputs": []
    },
    {
      "cell_type": "code",
      "metadata": {
        "id": "cjaKe8pBxQQv"
      },
      "source": [
        ""
      ],
      "id": "cjaKe8pBxQQv",
      "execution_count": 339,
      "outputs": []
    },
    {
      "cell_type": "code",
      "metadata": {
        "id": "7p8Vvm5a0dSp"
      },
      "source": [
        ""
      ],
      "id": "7p8Vvm5a0dSp",
      "execution_count": 339,
      "outputs": []
    },
    {
      "cell_type": "code",
      "metadata": {
        "id": "continuing-archive",
        "colab": {
          "base_uri": "https://localhost:8080/"
        },
        "outputId": "450199ee-69aa-4aa9-af3d-37057787d263"
      },
      "source": [
        "stoch_accuracy = leave_one_out_cross_val(X_norm, y, fit_stoch)\n",
        "print('Perceptron')\n",
        "print('Cross-validation accuracy (stochastic):', stoch_accuracy)"
      ],
      "id": "continuing-archive",
      "execution_count": 340,
      "outputs": [
        {
          "output_type": "stream",
          "text": [
            "Fold  0 weights:  [  0.         -34.24834148  36.06739458] :,  correct\n",
            "Fold  1 weights:  [  0.         -75.09970674  79.11954066] :,  correct\n",
            "Fold  2 weights:  [  1.         -62.46227436  64.31475904] :,  wrong\n",
            "Fold  3 weights:  [  0.         -42.57509286  44.68919428] :,  correct\n",
            "Fold  4 weights:  [  0.         -68.10800912  71.39890813] :,  correct\n",
            "Fold  5 weights:  [  0.         -64.79096774  67.58264307] :,  correct\n",
            "Fold  6 weights:  [  -3.         -155.64370153  168.77409639] :,  correct\n",
            "Fold  7 weights:  [  0.         -22.67111111  23.44295934] :,  correct\n",
            "Fold  8 weights:  [  1.         -84.26044966  86.5028238 ] :,  correct\n",
            "Fold  9 weights:  [  2.         -83.71529488  83.56362952] :,  wrong\n",
            "Fold  10 weights:  [  0.         -59.72964484  63.65926205] :,  wrong\n",
            "Fold  11 weights:  [  -2.         -123.94572825  130.93655873] :,  correct\n",
            "Fold  12 weights:  [ 0.         -3.61686543  3.78633283] :,  correct\n",
            "Fold  13 weights:  [  -3.         -193.16491365  205.21912651] :,  correct\n",
            "Fold  14 weights:  [   0.         -145.93699576  155.27955572] :,  correct\n",
            "Fold  15 weights:  [  -4.         -153.72542196  167.97590361] :,  correct\n",
            "Fold  16 weights:  [  -2.         -143.68509612  156.31287651] :,  correct\n",
            "Fold  17 weights:  [  -4.         -115.55442164  126.66848645] :,  wrong\n",
            "Fold  18 weights:  [  -1.         -188.92480938  202.4310994 ] :,  correct\n",
            "Fold  19 weights:  [  -1.         -156.97618768  168.12518825] :,  correct\n",
            "Fold  20 weights:  [   0.         -140.16973607  145.50997741] :,  correct\n",
            "Fold  21 weights:  [  0.         -42.8132421   44.55026355] :,  correct\n",
            "Fold  22 weights:  [   0.         -157.51958293  165.34243223] :,  correct\n",
            "Fold  23 weights:  [  -1.         -103.41389378  109.50169428] :,  correct\n",
            "Fold  24 weights:  [ -3.         -63.82478983  72.27466114] :,  correct\n",
            "Fold  25 weights:  [  -2.         -105.28825024  114.77823795] :,  correct\n",
            "Fold  26 weights:  [ -2.         -78.36995764  86.11125753] :,  correct\n",
            "Fold  27 weights:  [   1.         -115.08892799  116.0528991 ] :,  correct\n",
            "Fold  28 weights:  [  0.         -17.20569567  18.09958584] :,  correct\n",
            "Fold  29 weights:  [  -2.         -104.02490714  113.39551958] :,  wrong\n",
            "Perceptron\n",
            "Cross-validation accuracy (stochastic): 0.8333333333333334\n"
          ],
          "name": "stdout"
        }
      ]
    },
    {
      "cell_type": "markdown",
      "metadata": {
        "id": "8w26tJPJ2zEa"
      },
      "source": [
        "#### Går 0.9 +- 0.0233 ungefär"
      ],
      "id": "8w26tJPJ2zEa"
    },
    {
      "cell_type": "markdown",
      "metadata": {
        "id": "toxic-score"
      },
      "source": [
        "## Logistic Regression\n",
        "From your perceptron program, implement logistic regression. You can either follow the description from the textbook, S. Russell and R. Norvig, _Artificial Intelligence_, 2010, pages 725--727, or the slides. You can either implement the stochastic or the batch version of the algorithm, or both versions. As stop criterion, you will use either the norm of the gradient or the norm of the difference between two consecutive weight vectors. You will also set a maximal number of epochs. Run the resulting program on your data set."
      ],
      "id": "toxic-score"
    },
    {
      "cell_type": "markdown",
      "metadata": {
        "id": "variable-albania"
      },
      "source": [
        "Write the logistic function, where the $x$ input is a real number."
      ],
      "id": "variable-albania"
    },
    {
      "cell_type": "code",
      "metadata": {
        "id": "secret-orbit"
      },
      "source": [
        "## LOGISTIC FUNCTION\n",
        "\n",
        "def logistic(x):\n",
        "    return 1 / (1 + np.exp(-x))\n"
      ],
      "id": "secret-orbit",
      "execution_count": 341,
      "outputs": []
    },
    {
      "cell_type": "markdown",
      "metadata": {
        "id": "atmospheric-payroll"
      },
      "source": [
        "### The `predict(X, w)` function"
      ],
      "id": "atmospheric-payroll"
    },
    {
      "cell_type": "markdown",
      "metadata": {
        "id": "motivated-mustang"
      },
      "source": [
        "Write a `predict_proba()` function that given a matrix of observations $\\mathbf{X}$ and a weight vector $\\mathbf{w}$ will return a vector of probabilities to belong to class 1: The vector will consist of $P(1|\\mathbf{x}_i)$ for all the $i$ rows of $\\mathbf{X}$."
      ],
      "id": "motivated-mustang"
    },
    {
      "cell_type": "code",
      "metadata": {
        "id": "genuine-sharing"
      },
      "source": [
        "## PROBABILITY FUNCTION\n",
        "\n",
        "def predict_proba(X, w):\n",
        "\n",
        "    probabilitites = []\n",
        "\n",
        "    for observation in X:\n",
        "\n",
        "        prediction = w[2] * observation[2] + w[1] * observation[1] + w[0]\n",
        "        probability = logistic(prediction)\n",
        "        probabilitites.append(probability)\n",
        "\n",
        "    return probabilitites\n"
      ],
      "id": "genuine-sharing",
      "execution_count": 342,
      "outputs": []
    },
    {
      "cell_type": "markdown",
      "metadata": {
        "id": "front-salad"
      },
      "source": [
        "Write a `predict(X, w)` function that given a matrix of observations $\\mathbf{X}$ and a weight vector $\\mathbf{w}$ will return the class. You will use `predict_proba()` and set the threshold to belong to class 1 to 0.5."
      ],
      "id": "front-salad"
    },
    {
      "cell_type": "code",
      "metadata": {
        "id": "historic-intention"
      },
      "source": [
        "## PREDICT FUNCTION\n",
        "\n",
        "def predict(X, w):\n",
        "    \n",
        "    y_class = []\n",
        "    probabilities = predict_proba(X, w)\n",
        "    \n",
        "    for i in range(len(probabilities)):\n",
        "    \n",
        "        if probabilities[i] < 0.5:\n",
        "            y_class.append(0)\n",
        "        else: \n",
        "            y_class.append(1)\n",
        "\n",
        "    return np.array(y_class)\n"
      ],
      "id": "historic-intention",
      "execution_count": 343,
      "outputs": []
    },
    {
      "cell_type": "code",
      "metadata": {
        "id": "NP_MYcd_ypVl"
      },
      "source": [
        ""
      ],
      "id": "NP_MYcd_ypVl",
      "execution_count": 343,
      "outputs": []
    },
    {
      "cell_type": "markdown",
      "metadata": {
        "id": "assisted-variation"
      },
      "source": [
        "### The `fit(X, y)` function"
      ],
      "id": "assisted-variation"
    },
    {
      "cell_type": "markdown",
      "metadata": {
        "id": "blind-relation"
      },
      "source": [
        "You will now write the `fit(X, y)` function as with the perceptron. You may call it `fit_stoch(X, y)` or `fit_batch(X, y)`. Use the parameters given in the cell below."
      ],
      "id": "blind-relation"
    },
    {
      "cell_type": "code",
      "metadata": {
        "id": "parallel-reynolds"
      },
      "source": [
        "## FIT FUNCTION\n",
        "\n",
        "import random\n",
        "def fit_stoch(X, y, alpha=100,\n",
        "              epochs=1000,\n",
        "              epsilon=1.0e-4,\n",
        "              verbose=False):\n",
        "    \n",
        "    w0, w1, w2 = 1, 2, 4\n",
        "    w = np.array([w0, w1, w2])\n",
        "    q = len(y)\n",
        "    \n",
        "    for step in range(epochs): \n",
        "        \n",
        "        for i in range(q):\n",
        "            y_cl = predict(X, w)\n",
        "            r = random.randint(0, q-1)\n",
        "            loss = y[r] - y_cl[r]\n",
        "            for i, x_val in enumerate(X[r]):\n",
        "                w[i] = w[i] + alpha*x_val*(loss)\n",
        "            alpha -= epsilon\n",
        "      \n",
        "    return w\n",
        "\n",
        "    "
      ],
      "id": "parallel-reynolds",
      "execution_count": 344,
      "outputs": []
    },
    {
      "cell_type": "code",
      "metadata": {
        "id": "38ZhO8LD2ggg"
      },
      "source": [
        ""
      ],
      "id": "38ZhO8LD2ggg",
      "execution_count": 344,
      "outputs": []
    },
    {
      "cell_type": "code",
      "metadata": {
        "id": "naughty-sphere",
        "colab": {
          "base_uri": "https://localhost:8080/"
        },
        "outputId": "1253de92-7ec3-4794-8c7b-3c715474c262"
      },
      "source": [
        "w = fit_stoch(X_norm, y, verbose=True)\n",
        "w"
      ],
      "id": "naughty-sphere",
      "execution_count": 345,
      "outputs": [
        {
          "output_type": "execute_result",
          "data": {
            "text/plain": [
              "array([   0, -714,  748])"
            ]
          },
          "metadata": {
            "tags": []
          },
          "execution_count": 345
        }
      ]
    },
    {
      "cell_type": "code",
      "metadata": {
        "id": "experienced-manor",
        "colab": {
          "base_uri": "https://localhost:8080/"
        },
        "outputId": "45366318-063b-49e2-803f-41314042f177"
      },
      "source": [
        "w = [w[i] / maxima[i] for i in range(len(w))]\n",
        "print('Logistic Regression')\n",
        "print(\"Restored weights\", w)\n",
        "w = [w[j] / w[-1] for j in range(len(w))]\n",
        "print(\"Weights with y set to 1\", w)"
      ],
      "id": "experienced-manor",
      "execution_count": 346,
      "outputs": [
        {
          "output_type": "stream",
          "text": [
            "Logistic Regression\n",
            "Restored weights [0.0, -0.009305962854349951, 0.1408132530120482]\n",
            "Weights with y set to 1 [0.0, -0.0660872656180574, 1.0]\n"
          ],
          "name": "stdout"
        }
      ]
    },
    {
      "cell_type": "markdown",
      "metadata": {
        "id": "coastal-motion"
      },
      "source": [
        "### Visualizing the results"
      ],
      "id": "coastal-motion"
    },
    {
      "cell_type": "code",
      "metadata": {
        "id": "illegal-evans",
        "colab": {
          "base_uri": "https://localhost:8080/",
          "height": 265
        },
        "outputId": "60eb8f90-295f-4494-871a-a62b75abbcbc"
      },
      "source": [
        "plt.scatter(x_fr, y_fr, color='red')\n",
        "plt.scatter(x_en, y_en, color='blue')\n",
        "plt.plot([min(x_fr + x_en), max(x_fr + x_en)],\n",
        "         [-w[1] * min(x_fr + x_en) - w[0], -w[1] * max(x_fr + x_en) - w[0]])\n",
        "plt.show()"
      ],
      "id": "illegal-evans",
      "execution_count": 347,
      "outputs": [
        {
          "output_type": "display_data",
          "data": {
            "image/png": "[encoded data removed]",
            "text/plain": [
              "<Figure size 432x288 with 1 Axes>"
            ]
          },
          "metadata": {
            "tags": [],
            "needs_background": "light"
          }
        }
      ]
    },
    {
      "cell_type": "markdown",
      "metadata": {
        "id": "wireless-value"
      },
      "source": [
        "### Evaluation\n",
        "Evaluate your logistic regression using the leave-one-out cross validation method as with the perceptron"
      ],
      "id": "wireless-value"
    },
    {
      "cell_type": "code",
      "metadata": {
        "id": "offensive-trinity"
      },
      "source": [
        "## LEAVE-ONE-OUT CROSS VALIDATION\n",
        "\n",
        "def leave_one_out_cross_val(X, y, fitting_function):\n",
        "    correct = 0\n",
        "    \n",
        "\n",
        "    for sample in range(30):\n",
        "        X_train, y_train, x_test, y_test = [], [], [], 0\n",
        "        \n",
        "        for i in range(len(X)):\n",
        "            if i != sample:\n",
        "                X_train.append(X[i])\n",
        "                y_train.append(y[i])\n",
        "            else: \n",
        "                X_test = X[i]\n",
        "                y_test = y[i]\n",
        "\n",
        "        w = fitting_function(X_train, y_train)\n",
        "        val = w[2]*X_test[2] + w[1]*X_test[1] + w[0] \n",
        "\n",
        "        if val >= 0.5:\n",
        "            y_value = 1\n",
        "        if val < 0.5:\n",
        "            y_value = 0\n",
        "\n",
        "        if y_value == y_test:\n",
        "            correct += 1\n",
        "            class_result = 'correct'\n",
        "        elif y_value != y_test:\n",
        "            class_result = 'wrong'\n",
        "\n",
        "        stoch_accuracy = correct / 30\n",
        "\n",
        "        print('Fold ', sample, 'weights: ', w, ':, ', class_result)\n",
        "\n",
        "        \n",
        "    return stoch_accuracy\n",
        "        "
      ],
      "id": "offensive-trinity",
      "execution_count": 348,
      "outputs": []
    },
    {
      "cell_type": "code",
      "metadata": {
        "id": "simple-chile",
        "colab": {
          "base_uri": "https://localhost:8080/"
        },
        "outputId": "00bbdc9a-8861-4c38-a6ae-9e78411ef160"
      },
      "source": [
        "stoch_accuracy = leave_one_out_cross_val(X, y, fit_stoch)\n",
        "print('Logistic Regression')\n",
        "print('Cross-validation accuracy (stochastic): ', stoch_accuracy)"
      ],
      "id": "simple-chile",
      "execution_count": 349,
      "outputs": [
        {
          "output_type": "stream",
          "text": [
            "/usr/local/lib/python3.7/dist-packages/ipykernel_launcher.py:4: RuntimeWarning: overflow encountered in exp\n",
            "  after removing the cwd from sys.path.\n"
          ],
          "name": "stderr"
        },
        {
          "output_type": "stream",
          "text": [
            "Fold  0 weights:  [    134 -442159 6698552] :,  correct\n",
            "Fold  1 weights:  [    233 -373048 5625374] :,  correct\n",
            "Fold  2 weights:  [    2921 -2076684 31570156] :,  correct\n",
            "Fold  3 weights:  [   -409 -297236 4491443] :,  correct\n",
            "Fold  4 weights:  [   -1657 -1179948 17878143] :,  correct\n",
            "Fold  5 weights:  [     646  -743081 11224931] :,  correct\n",
            "Fold  6 weights:  [  -4767 -493452 7449251] :,  correct\n",
            "Fold  7 weights:  [   389 -59804 904984] :,  correct\n",
            "Fold  8 weights:  [   -447 -362738 5514744] :,  correct\n",
            "Fold  9 weights:  [   -1462 -1390236 20968014] :,  correct\n",
            "Fold  10 weights:  [   -2586 -1085660 16426488] :,  correct\n",
            "Fold  11 weights:  [   2972 -453054 6843252] :,  correct\n",
            "Fold  12 weights:  [  -2614 -639169 9722713] :,  correct\n",
            "Fold  13 weights:  [   -8410 -1049307 15970589] :,  correct\n",
            "Fold  14 weights:  [   1586 -558165 8478220] :,  correct\n",
            "Fold  15 weights:  [   -2068  -899921 13673202] :,  correct\n",
            "Fold  16 weights:  [   -4130 -1215219 18328609] :,  correct\n",
            "Fold  17 weights:  [   -5131 -1324151 20150978] :,  correct\n",
            "Fold  18 weights:  [   -1418 -1422219 21586212] :,  correct\n",
            "Fold  19 weights:  [  -1032 -427726 6488425] :,  correct\n",
            "Fold  20 weights:  [    -283  -898506 13545672] :,  correct\n",
            "Fold  21 weights:  [   1282 -119253 1807083] :,  correct\n",
            "Fold  22 weights:  [  -1681 -478260 7262908] :,  correct\n",
            "Fold  23 weights:  [   -314 -454789 6918627] :,  correct\n",
            "Fold  24 weights:  [  -3774 -362051 5459115] :,  correct\n",
            "Fold  25 weights:  [   -1294 -1191385 18030992] :,  correct\n",
            "Fold  26 weights:  [    -322  -788255 11936475] :,  correct\n",
            "Fold  27 weights:  [    2805  -744360 11267649] :,  correct\n",
            "Fold  28 weights:  [   1143 -328699 4980723] :,  correct\n",
            "Fold  29 weights:  [   -5059 -1270529 19253863] :,  correct\n",
            "Logistic Regression\n",
            "Cross-validation accuracy (stochastic):  1.0\n"
          ],
          "name": "stdout"
        }
      ]
    },
    {
      "cell_type": "markdown",
      "metadata": {
        "id": "global-difficulty"
      },
      "source": [
        "## Visualizing the logistic surface"
      ],
      "id": "global-difficulty"
    },
    {
      "cell_type": "code",
      "metadata": {
        "id": "sunrise-tractor"
      },
      "source": [
        "def plot_logistic_surf(x_range, y_range, w_opt):\n",
        "    z_axis = np.array([[0.0] * len(y_range) for i in range(len(x_range))])\n",
        "    x_axis, y_axis = np.meshgrid(x_range, y_range)\n",
        "    z_axis = z_axis.reshape(x_axis.shape)\n",
        "\n",
        "    # We compute the probability surface as a function of x and y\n",
        "    for i in range(len(x_range)):\n",
        "        for j in range(len(y_range)):\n",
        "            z_axis[j, i] = logistic(np.dot([1, x_range[i], y_range[j]], w_opt))\n",
        "    return x_axis, y_axis, z_axis"
      ],
      "id": "sunrise-tractor",
      "execution_count": 350,
      "outputs": []
    },
    {
      "cell_type": "code",
      "metadata": {
        "id": "confirmed-plastic",
        "colab": {
          "base_uri": "https://localhost:8080/",
          "height": 353
        },
        "outputId": "c3003162-3d73-4aaf-b25b-c6e172e814a4"
      },
      "source": [
        "x_range = np.linspace(0, 100000, 200)\n",
        "y_range = np.linspace(0, 10000, 200)\n",
        "#w = [2.073225839414742, -0.049125455233437906, 0.7440143556104162]\n",
        "\n",
        "x_axis, y_axis, z_axis = plot_logistic_surf(x_range, y_range, w)\n",
        "\n",
        "fig = plt.figure()\n",
        "ax = Axes3D(fig)\n",
        "# ax = fig.gca(projection='3d')\n",
        "\n",
        "surf = ax.plot_surface(y_axis, x_axis, z_axis, rstride=1, cstride=1, cmap=cm.coolwarm,\n",
        "                       linewidth=0, antialiased=False, alpha=0.2)\n",
        "fig.colorbar(surf, shrink=0.5, aspect=5)\n",
        "# We plot the observations\n",
        "for x, y_class in zip(X, y):\n",
        "    if y_class == 1:\n",
        "        ax.scatter(x[2], x[1], y_class, color='green', marker='x')\n",
        "    else:\n",
        "        ax.scatter(x[2], x[1], y_class, color='red', marker='x')\n",
        "\n",
        "ax.elev = 30 \n",
        "ax.azim = -150\n",
        "plt.show()"
      ],
      "id": "confirmed-plastic",
      "execution_count": 351,
      "outputs": [
        {
          "output_type": "stream",
          "text": [
            "/usr/local/lib/python3.7/dist-packages/ipykernel_launcher.py:4: RuntimeWarning: overflow encountered in exp\n",
            "  after removing the cwd from sys.path.\n"
          ],
          "name": "stderr"
        },
        {
          "output_type": "display_data",
          "data": {
            "image/png": "[encoded data removed]",
            "text/plain": [
              "<Figure size 432x288 with 2 Axes>"
            ]
          },
          "metadata": {
            "tags": [],
            "needs_background": "light"
          }
        }
      ]
    },
    {
      "cell_type": "markdown",
      "metadata": {
        "id": "acoustic-ideal"
      },
      "source": [
        "## Programming logistic regression with popular APIs\n",
        "Should you use logistic regression in a project, you will probably resort to existing libraries. In the next cells, you will apply the logistic regression classification with two popular APIs:\n",
        "1. sklearn\n",
        "2. Keras\n",
        "\n",
        "`sklearn` is included in anaconda.\n",
        "You will install the rest with:\n",
        "```\n",
        "pip install --upgrade keras tensorflow tensorflow-addons \n",
        "```\n",
        "You will read and run the code in the cells below."
      ],
      "id": "acoustic-ideal"
    },
    {
      "cell_type": "markdown",
      "metadata": {
        "id": "synthetic-karma"
      },
      "source": [
        "All these APIs are built on numpy and we convert the dataset into numpy if you have not done it already"
      ],
      "id": "synthetic-karma"
    },
    {
      "cell_type": "code",
      "metadata": {
        "id": "horizontal-celebrity"
      },
      "source": [
        "X = np.array(X)\n",
        "X_norm = np.array(X_norm)\n",
        "y = np.array(y)"
      ],
      "id": "horizontal-celebrity",
      "execution_count": 352,
      "outputs": []
    },
    {
      "cell_type": "markdown",
      "metadata": {
        "id": "linear-institution"
      },
      "source": [
        "They also handle the intercept so we do not need the first column of ones."
      ],
      "id": "linear-institution"
    },
    {
      "cell_type": "code",
      "metadata": {
        "id": "thick-leadership"
      },
      "source": [
        "X = X[:, 1:]\n",
        "X_norm = X_norm[:, 1:]"
      ],
      "id": "thick-leadership",
      "execution_count": 353,
      "outputs": []
    },
    {
      "cell_type": "markdown",
      "metadata": {
        "id": "phantom-peter"
      },
      "source": [
        "### sklearn\n",
        "Using the dataset of English and French datapoints, we apply logistic regression with the sklearn API. We need the `LogisticRegression` class, the fit() and predict() functions. The weights are in the `coef_` field."
      ],
      "id": "phantom-peter"
    },
    {
      "cell_type": "code",
      "metadata": {
        "id": "adult-young",
        "colab": {
          "base_uri": "https://localhost:8080/"
        },
        "outputId": "2623d5b2-a5af-4560-e638-407d3661577a"
      },
      "source": [
        "from sklearn.linear_model import LogisticRegression\n",
        "model = LogisticRegression()\n",
        "model = model.fit(X, y)\n",
        "model.coef_"
      ],
      "id": "adult-young",
      "execution_count": 354,
      "outputs": [
        {
          "output_type": "execute_result",
          "data": {
            "text/plain": [
              "array([[-0.03372363,  0.51169867]])"
            ]
          },
          "metadata": {
            "tags": []
          },
          "execution_count": 354
        }
      ]
    },
    {
      "cell_type": "markdown",
      "metadata": {
        "id": "effective-adventure"
      },
      "source": [
        "We predict the classes of the $\\mathbf{X}$ with the `predict()` function"
      ],
      "id": "effective-adventure"
    },
    {
      "cell_type": "code",
      "metadata": {
        "id": "bizarre-african",
        "colab": {
          "base_uri": "https://localhost:8080/"
        },
        "outputId": "69a01189-17c2-415e-8447-efd779e655f8"
      },
      "source": [
        "model.predict(X)"
      ],
      "id": "bizarre-african",
      "execution_count": 355,
      "outputs": [
        {
          "output_type": "execute_result",
          "data": {
            "text/plain": [
              "array([0., 0., 0., 0., 0., 0., 0., 0., 0., 0., 0., 0., 0., 0., 0., 1., 1.,\n",
              "       1., 1., 1., 1., 1., 1., 1., 1., 1., 1., 1., 1., 1.])"
            ]
          },
          "metadata": {
            "tags": []
          },
          "execution_count": 355
        }
      ]
    },
    {
      "cell_type": "markdown",
      "metadata": {
        "id": "dental-watson"
      },
      "source": [
        "We predict the class probabilities of the $\\mathbf{X}$ with the `predict_proba()` function"
      ],
      "id": "dental-watson"
    },
    {
      "cell_type": "code",
      "metadata": {
        "id": "composed-playlist",
        "colab": {
          "base_uri": "https://localhost:8080/"
        },
        "outputId": "b11d3e30-7f88-45e0-a007-23593ecbcb17"
      },
      "source": [
        "model.predict_proba(X)"
      ],
      "id": "composed-playlist",
      "execution_count": 356,
      "outputs": [
        {
          "output_type": "execute_result",
          "data": {
            "text/plain": [
              "array([[1.00000000e+00, 1.28980319e-30],\n",
              "       [9.99999999e-01, 8.16295157e-10],\n",
              "       [9.91302434e-01, 8.69756611e-03],\n",
              "       [1.00000000e+00, 2.35657080e-12],\n",
              "       [1.00000000e+00, 1.01085544e-22],\n",
              "       [1.00000000e+00, 3.56287478e-11],\n",
              "       [1.00000000e+00, 1.62389438e-24],\n",
              "       [1.00000000e+00, 5.76610689e-17],\n",
              "       [1.00000000e+00, 2.72458519e-12],\n",
              "       [9.94843591e-01, 5.15640906e-03],\n",
              "       [9.89714656e-01, 1.02853437e-02],\n",
              "       [1.00000000e+00, 4.22127774e-11],\n",
              "       [1.00000000e+00, 1.22665951e-41],\n",
              "       [1.00000000e+00, 7.37721442e-22],\n",
              "       [1.00000000e+00, 3.90177203e-16],\n",
              "       [1.33226763e-15, 1.00000000e+00],\n",
              "       [0.00000000e+00, 1.00000000e+00],\n",
              "       [1.92390717e-02, 9.80760928e-01],\n",
              "       [0.00000000e+00, 1.00000000e+00],\n",
              "       [1.01629571e-09, 9.99999999e-01],\n",
              "       [0.00000000e+00, 1.00000000e+00],\n",
              "       [0.00000000e+00, 1.00000000e+00],\n",
              "       [0.00000000e+00, 1.00000000e+00],\n",
              "       [0.00000000e+00, 1.00000000e+00],\n",
              "       [0.00000000e+00, 1.00000000e+00],\n",
              "       [0.00000000e+00, 1.00000000e+00],\n",
              "       [0.00000000e+00, 1.00000000e+00],\n",
              "       [0.00000000e+00, 1.00000000e+00],\n",
              "       [0.00000000e+00, 1.00000000e+00],\n",
              "       [1.80182968e-02, 9.81981703e-01]])"
            ]
          },
          "metadata": {
            "tags": []
          },
          "execution_count": 356
        }
      ]
    },
    {
      "cell_type": "markdown",
      "metadata": {
        "id": "developing-oxygen"
      },
      "source": [
        "### Keras\n",
        "Using the dataset of English and French datapoints, we apply logistic regression with Keras. We need the `Sequential` and `Dense` classes."
      ],
      "id": "developing-oxygen"
    },
    {
      "cell_type": "code",
      "metadata": {
        "id": "urban-analysis"
      },
      "source": [
        "from tensorflow.keras import Sequential \n",
        "from tensorflow.keras.layers import Dense"
      ],
      "id": "urban-analysis",
      "execution_count": 357,
      "outputs": []
    },
    {
      "cell_type": "code",
      "metadata": {
        "id": "healthy-kingdom",
        "colab": {
          "base_uri": "https://localhost:8080/"
        },
        "outputId": "52e80b11-5bbd-4fd0-f9cc-55c89dbe4e9d"
      },
      "source": [
        "# Write your code here\n",
        "model = Sequential()\n",
        "model.add(Dense(1, input_dim=2, activation='sigmoid'))\n",
        "model.compile(loss='binary_crossentropy',\n",
        "              optimizer='nadam',\n",
        "              metrics=['accuracy'])\n",
        "model.summary()"
      ],
      "id": "healthy-kingdom",
      "execution_count": 358,
      "outputs": [
        {
          "output_type": "stream",
          "text": [
            "Model: \"sequential_5\"\n",
            "_________________________________________________________________\n",
            "Layer (type)                 Output Shape              Param #   \n",
            "=================================================================\n",
            "dense_5 (Dense)              (None, 1)                 3         \n",
            "=================================================================\n",
            "Total params: 3\n",
            "Trainable params: 3\n",
            "Non-trainable params: 0\n",
            "_________________________________________________________________\n"
          ],
          "name": "stdout"
        }
      ]
    },
    {
      "cell_type": "markdown",
      "metadata": {
        "id": "animated-baseball"
      },
      "source": [
        "We fit the model"
      ],
      "id": "animated-baseball"
    },
    {
      "cell_type": "code",
      "metadata": {
        "id": "critical-banner",
        "colab": {
          "base_uri": "https://localhost:8080/"
        },
        "outputId": "7a1f0ab8-4583-4388-fda5-43693621ec01"
      },
      "source": [
        "model.fit(X, y, epochs=1500, batch_size=4, verbose=0)"
      ],
      "id": "critical-banner",
      "execution_count": 359,
      "outputs": [
        {
          "output_type": "execute_result",
          "data": {
            "text/plain": [
              "<tensorflow.python.keras.callbacks.History at 0x7fcfc88b1050>"
            ]
          },
          "metadata": {
            "tags": []
          },
          "execution_count": 359
        }
      ]
    },
    {
      "cell_type": "code",
      "metadata": {
        "id": "simple-aside",
        "colab": {
          "base_uri": "https://localhost:8080/"
        },
        "outputId": "6d54c90e-60bc-4b7b-bede-7bb28de65bb4"
      },
      "source": [
        "y"
      ],
      "id": "simple-aside",
      "execution_count": 360,
      "outputs": [
        {
          "output_type": "execute_result",
          "data": {
            "text/plain": [
              "array([0., 0., 0., 0., 0., 0., 0., 0., 0., 0., 0., 0., 0., 0., 0., 1., 1.,\n",
              "       1., 1., 1., 1., 1., 1., 1., 1., 1., 1., 1., 1., 1.])"
            ]
          },
          "metadata": {
            "tags": []
          },
          "execution_count": 360
        }
      ]
    },
    {
      "cell_type": "code",
      "metadata": {
        "id": "genuine-latino",
        "colab": {
          "base_uri": "https://localhost:8080/"
        },
        "outputId": "ba1505f4-cc90-4e77-9112-3197f519bfb9"
      },
      "source": [
        "model.predict(X)"
      ],
      "id": "genuine-latino",
      "execution_count": 361,
      "outputs": [
        {
          "output_type": "stream",
          "text": [
            "WARNING:tensorflow:5 out of the last 9 calls to <function Model.make_predict_function.<locals>.predict_function at 0x7fcfc6ccf4d0> triggered tf.function retracing. Tracing is expensive and the excessive number of tracings could be due to (1) creating @tf.function repeatedly in a loop, (2) passing tensors with different shapes, (3) passing Python objects instead of tensors. For (1), please define your @tf.function outside of the loop. For (2), @tf.function has experimental_relax_shapes=True option that relaxes argument shapes that can avoid unnecessary retracing. For (3), please refer to https://www.tensorflow.org/guide/function#controlling_retracing and https://www.tensorflow.org/api_docs/python/tf/function for  more details.\n"
          ],
          "name": "stdout"
        },
        {
          "output_type": "execute_result",
          "data": {
            "text/plain": [
              "array([[1.        ],\n",
              "       [1.        ],\n",
              "       [0.9998668 ],\n",
              "       [1.        ],\n",
              "       [1.        ],\n",
              "       [1.        ],\n",
              "       [1.        ],\n",
              "       [1.        ],\n",
              "       [1.        ],\n",
              "       [0.99999946],\n",
              "       [1.        ],\n",
              "       [1.        ],\n",
              "       [1.        ],\n",
              "       [1.        ],\n",
              "       [1.        ],\n",
              "       [0.9999989 ],\n",
              "       [0.9999966 ],\n",
              "       [0.99948204],\n",
              "       [0.9999621 ],\n",
              "       [0.9999958 ],\n",
              "       [0.99993336],\n",
              "       [1.        ],\n",
              "       [0.9949276 ],\n",
              "       [0.99970114],\n",
              "       [0.9739734 ],\n",
              "       [0.9817938 ],\n",
              "       [0.9999944 ],\n",
              "       [1.        ],\n",
              "       [1.        ],\n",
              "       [0.9998803 ]], dtype=float32)"
            ]
          },
          "metadata": {
            "tags": []
          },
          "execution_count": 361
        }
      ]
    },
    {
      "cell_type": "code",
      "metadata": {
        "id": "contemporary-museum",
        "colab": {
          "base_uri": "https://localhost:8080/"
        },
        "outputId": "932c35ed-e2d9-4f23-98b8-f91d213f4085"
      },
      "source": [
        "model.predict_classes(X)"
      ],
      "id": "contemporary-museum",
      "execution_count": 362,
      "outputs": [
        {
          "output_type": "stream",
          "text": [
            "/usr/local/lib/python3.7/dist-packages/tensorflow/python/keras/engine/sequential.py:450: UserWarning: `model.predict_classes()` is deprecated and will be removed after 2021-01-01. Please use instead:* `np.argmax(model.predict(x), axis=-1)`,   if your model does multi-class classification   (e.g. if it uses a `softmax` last-layer activation).* `(model.predict(x) > 0.5).astype(\"int32\")`,   if your model does binary classification   (e.g. if it uses a `sigmoid` last-layer activation).\n",
            "  warnings.warn('`model.predict_classes()` is deprecated and '\n"
          ],
          "name": "stderr"
        },
        {
          "output_type": "execute_result",
          "data": {
            "text/plain": [
              "array([[1],\n",
              "       [1],\n",
              "       [1],\n",
              "       [1],\n",
              "       [1],\n",
              "       [1],\n",
              "       [1],\n",
              "       [1],\n",
              "       [1],\n",
              "       [1],\n",
              "       [1],\n",
              "       [1],\n",
              "       [1],\n",
              "       [1],\n",
              "       [1],\n",
              "       [1],\n",
              "       [1],\n",
              "       [1],\n",
              "       [1],\n",
              "       [1],\n",
              "       [1],\n",
              "       [1],\n",
              "       [1],\n",
              "       [1],\n",
              "       [1],\n",
              "       [1],\n",
              "       [1],\n",
              "       [1],\n",
              "       [1],\n",
              "       [1]], dtype=int32)"
            ]
          },
          "metadata": {
            "tags": []
          },
          "execution_count": 362
        }
      ]
    },
    {
      "cell_type": "markdown",
      "metadata": {
        "id": "close-premium"
      },
      "source": [
        "If you do not obtain a correct classification, rerun the training with more epochs."
      ],
      "id": "close-premium"
    },
    {
      "cell_type": "markdown",
      "metadata": {
        "id": "handmade-involvement"
      },
      "source": [
        "## Reading\n",
        "You will read the article *An overview of gradient descent optimization algorithms* by Ruder (2017) and you will outline the main characteristics of all the optimization algorithms the author describes. This part should be of about one to two pages. Link to the article: https://arxiv.org/abs/1609.04747\n",
        "\n",
        "If you understand French, or using Google translate, you may also want to read the original article on gradient descent by Cauchy here:  https://gallica.bnf.fr/ark:/12148/bpt6k2982c/f540.item.\n"
      ],
      "id": "handmade-involvement"
    },
    {
      "cell_type": "markdown",
      "metadata": {
        "id": "packed-student"
      },
      "source": [
        "### Report\n",
        "\n",
        "The assignment must be documented in the report, which should contain the following:\n",
        "\n",
        "*   The name of the author, the title of the assignment, and any relevant information on the front page;\n",
        "*   A presentation of the assignment and the possible improvements you would have brought;\n",
        "*   A presentation of your implementation;\n",
        "*   A print-out of the example set(s) and the resulting weight vectors;\n",
        "*   Comments on the results you have obtained, including your cross validation;\n",
        "*   A short dissertation on the optimization algorithms from Ruder's paper.\n",
        "\n",
        "Please, typeset and format your report consistently. You must use Latex. Documents written using MS Word or any similar format will not be considered.\n",
        "\n",
        "You may have a look at the code in the textbook code repository (or any other implementations), but the code you hand in must be your work."
      ],
      "id": "packed-student"
    },
    {
      "cell_type": "markdown",
      "metadata": {
        "id": "apparent-cedar"
      },
      "source": [
        "## Submission\n",
        "Submit the notebook and the report to Canvas (two files). Do not include the code printout in the report, but only comments on its interesting parts. You will submit the notebook as a separate file."
      ],
      "id": "apparent-cedar"
    },
    {
      "cell_type": "code",
      "metadata": {
        "id": "endangered-occurrence"
      },
      "source": [
        ""
      ],
      "id": "endangered-occurrence",
      "execution_count": 362,
      "outputs": []
    }
  ]
}